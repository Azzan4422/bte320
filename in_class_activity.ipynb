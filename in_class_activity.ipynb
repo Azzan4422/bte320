{
  "nbformat": 4,
  "nbformat_minor": 0,
  "metadata": {
    "colab": {
      "provenance": [],
      "authorship_tag": "ABX9TyOdbYUsAttsQCQPddng2Btz",
      "include_colab_link": true
    },
    "kernelspec": {
      "name": "python3",
      "display_name": "Python 3"
    },
    "language_info": {
      "name": "python"
    }
  },
  "cells": [
    {
      "cell_type": "markdown",
      "metadata": {
        "id": "view-in-github",
        "colab_type": "text"
      },
      "source": [
        "<a href=\"https://colab.research.google.com/github/Azzan4422/bte320/blob/main/in_class_activity.ipynb\" target=\"_parent\"><img src=\"https://colab.research.google.com/assets/colab-badge.svg\" alt=\"Open In Colab\"/></a>"
      ]
    },
    {
      "cell_type": "code",
      "execution_count": 1,
      "metadata": {
        "colab": {
          "base_uri": "https://localhost:8080/"
        },
        "id": "Op_O77wG1ySF",
        "outputId": "b861f9fb-36af-45b9-d1f2-664c11739d86"
      },
      "outputs": [
        {
          "output_type": "stream",
          "name": "stdout",
          "text": [
            "please provide radius: 5\n",
            "please provide height of cylinder: 10\n",
            "area of cylinder=471.0 sq.ft\n"
          ]
        }
      ],
      "source": [
        "pi=3.14\n",
        "radius=float(input('please provide radius: '))\n",
        "height=float(input('please provide height of cylinder: '))\n",
        "\n",
        "area=(2*pi*(radius**2))+(2*pi*radius*height)\n",
        "print(f'area of cylinder={area} sq.ft')"
      ]
    }
  ]
}
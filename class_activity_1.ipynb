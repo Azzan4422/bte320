{
  "cells": [
    {
      "cell_type": "markdown",
      "metadata": {
        "id": "view-in-github",
        "colab_type": "text"
      },
      "source": [
        "<a href=\"https://colab.research.google.com/github/Azzan4422/bte320/blob/main/class_activity_1.ipynb\" target=\"_parent\"><img src=\"https://colab.research.google.com/assets/colab-badge.svg\" alt=\"Open In Colab\"/></a>"
      ]
    },
    {
      "cell_type": "code",
      "execution_count": null,
      "metadata": {
        "colab": {
          "base_uri": "https://localhost:8080/"
        },
        "id": "z-kGwjO8dqTo",
        "outputId": "21bd452b-a3c4-437c-891f-32877a113d4a"
      },
      "outputs": [
        {
          "name": "stdout",
          "output_type": "stream",
          "text": [
            "please provide radius: 10\n",
            "please provide height of cylinder: 15\n",
            "area of cylinder=1570.0 sq.ft\n"
          ]
        }
      ],
      "source": [
        "pi=3.14\n",
        "radius=float(input('please provide radius: '))\n",
        "height=float(input('please provide height of cylinder: '))\n",
        "\n",
        "area=(2*pi*(radius**2))+(2*pi*radius*height)\n",
        "print(f'area of cylinder={area} sq.ft')\n"
      ]
    },
    {
      "cell_type": "code",
      "execution_count": null,
      "metadata": {
        "colab": {
          "base_uri": "https://localhost:8080/"
        },
        "id": "7DI2W3VOJbiF",
        "outputId": "bafa397e-4d21-4e93-f0d4-685120493882"
      },
      "outputs": [
        {
          "name": "stdout",
          "output_type": "stream",
          "text": [
            "Please provide first number:3\n",
            "Please provide second number:3\n",
            "Please provide operator(+,-,/,//,*,**,%):**\n",
            "3.0^3.0=27.0\n"
          ]
        }
      ],
      "source": [
        "n1= float(input('Please provide first number:'))\n",
        "n2= float(input('Please provide second number:'))\n",
        "s=input('Please provide operator(+,-,/,//,*,**,%):')\n",
        "\n",
        "if s=='+':\n",
        "  print(f'{n1}+{n2}={n1+n2}')\n",
        "elif s=='-':\n",
        "  print(f'{n1}-{n2}={n1-n2}')\n",
        "elif s=='/':\n",
        "  print(f'{n1}/{n2}={n1/n2}')\n",
        "elif s=='//':\n",
        "  print(f'{n1}//{n2}={n1//n2}')\n",
        "elif s=='*':\n",
        "  print(f'{n1}*{n2}={n1*n2}')\n",
        "elif s=='**':\n",
        "  print(f'{n1}^{n2}={n1**n2}')\n",
        "elif s=='%':\n",
        "  print(f'{n1}mod{n2}={n1%n2}')\n",
        "else:\n",
        "  print('invalid operator')\n"
      ]
    },
    {
      "cell_type": "code",
      "execution_count": null,
      "metadata": {
        "colab": {
          "base_uri": "https://localhost:8080/"
        },
        "id": "Jw0kOarxJcB1",
        "outputId": "2dd61604-a668-4801-c22f-5b083d58a7f9"
      },
      "outputs": [
        {
          "name": "stdout",
          "output_type": "stream",
          "text": [
            "1 10\n",
            "2 10.0\n",
            "3 12.5\n",
            "4 15.0\n",
            "5 17.5\n",
            "6 20.0\n",
            "7 20\n",
            "8 20\n"
          ]
        }
      ],
      "source": [
        "for numberhours in range(1,9):\n",
        "  fee=5+2.5*numberhours\n",
        "  if fee<10:\n",
        "    fee=10\n",
        "  elif fee >20:\n",
        "    fee=20\n",
        "  print(numberhours,fee)\n",
        "\n"
      ]
    },
    {
      "cell_type": "code",
      "execution_count": null,
      "metadata": {
        "colab": {
          "base_uri": "https://localhost:8080/"
        },
        "id": "2V6draUsO2UE",
        "outputId": "25e70a65-8eb6-4e78-aa35-08e509651dd4"
      },
      "outputs": [
        {
          "name": "stdout",
          "output_type": "stream",
          "text": [
            "Ad$\t profit\n",
            "0 \t 0\n",
            "25 \t 75\n",
            "50 \t 90\n",
            "75 \t 105\n",
            "100 \t 100\n",
            "125 \t 95\n",
            "150 \t 90\n",
            "175 \t 85\n",
            "200 \t 80\n"
          ]
        }
      ],
      "source": [
        "print('Ad$\\t','profit')\n",
        "for adcost in range(0,201,25):\n",
        "  additional=2*round(adcost**0.5)\n",
        "  profit= (20+additional)*10-200-adcost\n",
        "  print(adcost,'\\t',profit)"
      ]
    },
    {
      "cell_type": "code",
      "execution_count": null,
      "metadata": {
        "colab": {
          "background_save": true,
          "base_uri": "https://localhost:8080/"
        },
        "id": "rkai9CrG4la9",
        "outputId": "175faad2-542a-4dac-fb7a-c9c3361ce132"
      },
      "outputs": [
        {
          "name": "stdout",
          "output_type": "stream",
          "text": [
            "Player 2 wins!\n",
            "good day!\n",
            "Player 1 wins!\n"
          ]
        }
      ],
      "source": [
        "play= input(\"do you want to play a game (yes/no)?\")\n",
        "\n",
        "while play =='yes':\n",
        "  p1= input('player 1 - choose between rock/paper/scissors:')\n",
        "  p2= input('player 2 - choose between rock/paper/scissors:')\n",
        "\n",
        "  if p1==p2:\n",
        "    print('Draw')\n",
        "  elif p1 =='rock' and p2=='scissors':\n",
        "    print('Player 1 wins!')\n",
        "  elif p1 =='scissors' and p2=='paper':\n",
        "    print('Player 1 wins!')\n",
        "  elif p1 =='paper' and p2=='rock':\n",
        "    print('Player 1 wins!')\n",
        "  else:\n",
        "    print('Player 2 wins!')\n",
        "\n",
        "    play = input(\"do you want to play a new game (yes/no)?\")\n",
        "\n",
        "    print('good day!')\n",
        "\n"
      ]
    },
    {
      "cell_type": "code",
      "execution_count": null,
      "metadata": {
        "id": "IFqK53zrCAv4"
      },
      "outputs": [],
      "source": [
        "import random\n",
        "\n",
        "play= input(\"do you want to play a game (yes/no)?\")\n",
        "\n",
        "while play =='yes':\n",
        "  p1= input('player 1 - choose between rock/paper/scissors:')\n",
        "  p2= random.choice(['rock','paper','scissors'])\n",
        "\n",
        "  if p1==p2:\n",
        "    print('Draw')\n",
        "  elif p1 =='rock' and p2=='scissors':\n",
        "    print('Player 1 wins!')\n",
        "  elif p1 =='scissors' and p2=='paper':\n",
        "    print('Player 1 wins!')\n",
        "  elif p1 =='paper' and p2=='rock':\n",
        "    print('Player 1 wins!')\n",
        "  else:\n",
        "    print('Player 2 wins!')\n",
        "\n",
        "    play = input(\"do you want to play a new game (yes/no)?\")\n",
        "\n",
        "    print('good day!')"
      ]
    },
    {
      "cell_type": "markdown",
      "source": [
        "Assigenment 2/17"
      ],
      "metadata": {
        "id": "L9bncMF2EI81"
      }
    },
    {
      "cell_type": "code",
      "source": [
        "lst=[]\n",
        "\n",
        "num= float(input('give a number:'))\n",
        "\n",
        "while num !=0.0:\n",
        "  lst.append(num)\n",
        "  num= float(input('give a number:'))\n",
        "lst.sort(reverse=True)\n",
        "print(lst)"
      ],
      "metadata": {
        "colab": {
          "base_uri": "https://localhost:8080/"
        },
        "id": "n26WOMWW_w-Q",
        "outputId": "dad004f8-cef3-4f81-83a4-bb6b2058a0a1"
      },
      "execution_count": null,
      "outputs": [
        {
          "output_type": "stream",
          "name": "stdout",
          "text": [
            "give a number:2\n",
            "give a number:3\n",
            "give a number:4\n",
            "give a number:5\n",
            "give a number:6\n",
            "give a number:7\n",
            "give a number:0\n",
            "[7.0, 6.0, 5.0, 4.0, 3.0, 2.0]\n"
          ]
        }
      ]
    },
    {
      "cell_type": "code",
      "source": [
        "months={}\n",
        "\n",
        "names=[\"Jan\",\"Feb\",\"Mar\",\"Apr\",\"May\",\"Jun\",\"Jul\",\"Aug\",\"Sep\",\"Oct\",\"Nov\",\"Dec\"]\n",
        "numbers=[1,2,3,4,5,6,7,8,9,10,11,12]\n",
        "\n",
        "for idx in range(len(numbers)):\n",
        "  months[numbers[idx]]= names[idx]\n",
        "months"
      ],
      "metadata": {
        "colab": {
          "base_uri": "https://localhost:8080/"
        },
        "id": "J1gAa_-tiM2j",
        "outputId": "b3607b0f-dd91-46c4-9316-124cbbed9b09"
      },
      "execution_count": null,
      "outputs": [
        {
          "output_type": "execute_result",
          "data": {
            "text/plain": [
              "{1: 'Jan',\n",
              " 2: 'Feb',\n",
              " 3: 'Mar',\n",
              " 4: 'Apr',\n",
              " 5: 'May',\n",
              " 6: 'Jun',\n",
              " 7: 'Jul',\n",
              " 8: 'Aug',\n",
              " 9: 'Sep',\n",
              " 10: 'Oct',\n",
              " 11: 'Nov',\n",
              " 12: 'Dec'}"
            ]
          },
          "metadata": {},
          "execution_count": 9
        }
      ]
    },
    {
      "cell_type": "code",
      "source": [
        "counts={}\n",
        "\n",
        "while len(counts)< 5:\n",
        "  key=input('give a string:')\n",
        "\n",
        "  if key not in counts:\n",
        "    counts[key]= 1\n",
        "  else:\n",
        "    counts[key] += 1\n",
        "\n",
        "counts"
      ],
      "metadata": {
        "colab": {
          "base_uri": "https://localhost:8080/"
        },
        "id": "K1roL1TWoi39",
        "outputId": "ecec5517-39e0-40ab-ff6f-442c1f5d1683"
      },
      "execution_count": 2,
      "outputs": [
        {
          "name": "stdout",
          "output_type": "stream",
          "text": [
            "give a string:2\n",
            "give a string:2\n",
            "give a string:3\n",
            "give a string:4\n",
            "give a string:5\n",
            "give a string:67\n"
          ]
        },
        {
          "output_type": "execute_result",
          "data": {
            "text/plain": [
              "{'2': 2, '3': 1, '4': 1, '5': 1, '67': 1}"
            ]
          },
          "metadata": {},
          "execution_count": 2
        }
      ]
    }
  ],
  "metadata": {
    "colab": {
      "provenance": [],
      "authorship_tag": "ABX9TyOexo68hvafPbbrqNHXcCRH",
      "include_colab_link": true
    },
    "kernelspec": {
      "display_name": "Python 3",
      "name": "python3"
    },
    "language_info": {
      "name": "python"
    }
  },
  "nbformat": 4,
  "nbformat_minor": 0
}
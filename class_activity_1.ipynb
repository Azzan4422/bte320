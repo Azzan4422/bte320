{
  "nbformat": 4,
  "nbformat_minor": 0,
  "metadata": {
    "colab": {
      "provenance": [],
      "authorship_tag": "ABX9TyNsLiZoUR/lyTJn3xTX/dqW",
      "include_colab_link": true
    },
    "kernelspec": {
      "name": "python3",
      "display_name": "Python 3"
    },
    "language_info": {
      "name": "python"
    }
  },
  "cells": [
    {
      "cell_type": "markdown",
      "metadata": {
        "id": "view-in-github",
        "colab_type": "text"
      },
      "source": [
        "<a href=\"https://colab.research.google.com/github/Azzan4422/bte320/blob/main/class_activity_1.ipynb\" target=\"_parent\"><img src=\"https://colab.research.google.com/assets/colab-badge.svg\" alt=\"Open In Colab\"/></a>"
      ]
    },
    {
      "cell_type": "code",
      "execution_count": null,
      "metadata": {
        "colab": {
          "base_uri": "https://localhost:8080/"
        },
        "id": "z-kGwjO8dqTo",
        "outputId": "21bd452b-a3c4-437c-891f-32877a113d4a"
      },
      "outputs": [
        {
          "output_type": "stream",
          "name": "stdout",
          "text": [
            "please provide radius: 10\n",
            "please provide height of cylinder: 15\n",
            "area of cylinder=1570.0 sq.ft\n"
          ]
        }
      ],
      "source": [
        "pi=3.14\n",
        "radius=float(input('please provide radius: '))\n",
        "height=float(input('please provide height of cylinder: '))\n",
        "\n",
        "area=(2*pi*(radius**2))+(2*pi*radius*height)\n",
        "print(f'area of cylinder={area} sq.ft')\n"
      ]
    },
    {
      "cell_type": "code",
      "source": [
        "n1= float(input('Please provide first number:'))\n",
        "n2= float(input('Please provide second number:'))\n",
        "s=input('Please provide operator(+,-,/,//,*,**,%):')\n",
        "\n",
        "if s=='+':\n",
        "  print(f'{n1}+{n2}={n1+n2}')\n",
        "elif s=='-':\n",
        "  print(f'{n1}-{n2}={n1-n2}')\n",
        "elif s=='/':\n",
        "  print(f'{n1}/{n2}={n1/n2}')\n",
        "elif s=='//':\n",
        "  print(f'{n1}//{n2}={n1//n2}')\n",
        "elif s=='*':\n",
        "  print(f'{n1}*{n2}={n1*n2}')\n",
        "elif s=='**':\n",
        "  print(f'{n1}^{n2}={n1**n2}')\n",
        "elif s=='%':\n",
        "  print(f'{n1}mod{n2}={n1%n2}')\n",
        "else:\n",
        "  print('invalid operator')\n",
        ""
      ],
      "metadata": {
        "colab": {
          "base_uri": "https://localhost:8080/"
        },
        "id": "7DI2W3VOJbiF",
        "outputId": "bafa397e-4d21-4e93-f0d4-685120493882"
      },
      "execution_count": 14,
      "outputs": [
        {
          "output_type": "stream",
          "name": "stdout",
          "text": [
            "Please provide first number:3\n",
            "Please provide second number:3\n",
            "Please provide operator(+,-,/,//,*,**,%):**\n",
            "3.0^3.0=27.0\n"
          ]
        }
      ]
    },
    {
      "cell_type": "code",
      "source": [
        "for numberhours in range(1,9):\n",
        "  fee=5+2.5*numberhours\n",
        "  if fee<10:\n",
        "    fee=10\n",
        "  elif fee >20:\n",
        "    fee=20\n",
        "  print(numberhours,fee)\n",
        "\n"
      ],
      "metadata": {
        "colab": {
          "base_uri": "https://localhost:8080/"
        },
        "id": "Jw0kOarxJcB1",
        "outputId": "2dd61604-a668-4801-c22f-5b083d58a7f9"
      },
      "execution_count": 13,
      "outputs": [
        {
          "output_type": "stream",
          "name": "stdout",
          "text": [
            "1 10\n",
            "2 10.0\n",
            "3 12.5\n",
            "4 15.0\n",
            "5 17.5\n",
            "6 20.0\n",
            "7 20\n",
            "8 20\n"
          ]
        }
      ]
    },
    {
      "cell_type": "code",
      "source": [
        "print('Ad$\\t','profit')\n",
        "for adcost in range(0,201,25):\n",
        "  additional=2*round(adcost**0.5)\n",
        "  profit= (20+additional)*10-200-adcost\n",
        "  print(adcost,'\\t',profit)"
      ],
      "metadata": {
        "colab": {
          "base_uri": "https://localhost:8080/"
        },
        "id": "2V6draUsO2UE",
        "outputId": "25e70a65-8eb6-4e78-aa35-08e509651dd4"
      },
      "execution_count": 17,
      "outputs": [
        {
          "output_type": "stream",
          "name": "stdout",
          "text": [
            "Ad$\t profit\n",
            "0 \t 0\n",
            "25 \t 75\n",
            "50 \t 90\n",
            "75 \t 105\n",
            "100 \t 100\n",
            "125 \t 95\n",
            "150 \t 90\n",
            "175 \t 85\n",
            "200 \t 80\n"
          ]
        }
      ]
    }
  ]
}
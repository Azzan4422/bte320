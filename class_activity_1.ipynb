{
  "cells": [
    {
      "cell_type": "markdown",
      "metadata": {
        "id": "view-in-github",
        "colab_type": "text"
      },
      "source": [
        "<a href=\"https://colab.research.google.com/github/Azzan4422/bte320/blob/main/class_activity_1.ipynb\" target=\"_parent\"><img src=\"https://colab.research.google.com/assets/colab-badge.svg\" alt=\"Open In Colab\"/></a>"
      ]
    },
    {
      "cell_type": "code",
      "execution_count": null,
      "metadata": {
        "colab": {
          "base_uri": "https://localhost:8080/"
        },
        "id": "z-kGwjO8dqTo",
        "outputId": "21bd452b-a3c4-437c-891f-32877a113d4a"
      },
      "outputs": [
        {
          "name": "stdout",
          "output_type": "stream",
          "text": [
            "please provide radius: 10\n",
            "please provide height of cylinder: 15\n",
            "area of cylinder=1570.0 sq.ft\n"
          ]
        }
      ],
      "source": [
        "pi=3.14\n",
        "radius=float(input('please provide radius: '))\n",
        "height=float(input('please provide height of cylinder: '))\n",
        "\n",
        "area=(2*pi*(radius**2))+(2*pi*radius*height)\n",
        "print(f'area of cylinder={area} sq.ft')\n"
      ]
    },
    {
      "cell_type": "code",
      "execution_count": null,
      "metadata": {
        "colab": {
          "base_uri": "https://localhost:8080/"
        },
        "id": "7DI2W3VOJbiF",
        "outputId": "bafa397e-4d21-4e93-f0d4-685120493882"
      },
      "outputs": [
        {
          "name": "stdout",
          "output_type": "stream",
          "text": [
            "Please provide first number:3\n",
            "Please provide second number:3\n",
            "Please provide operator(+,-,/,//,*,**,%):**\n",
            "3.0^3.0=27.0\n"
          ]
        }
      ],
      "source": [
        "n1= float(input('Please provide first number:'))\n",
        "n2= float(input('Please provide second number:'))\n",
        "s=input('Please provide operator(+,-,/,//,*,**,%):')\n",
        "\n",
        "if s=='+':\n",
        "  print(f'{n1}+{n2}={n1+n2}')\n",
        "elif s=='-':\n",
        "  print(f'{n1}-{n2}={n1-n2}')\n",
        "elif s=='/':\n",
        "  print(f'{n1}/{n2}={n1/n2}')\n",
        "elif s=='//':\n",
        "  print(f'{n1}//{n2}={n1//n2}')\n",
        "elif s=='*':\n",
        "  print(f'{n1}*{n2}={n1*n2}')\n",
        "elif s=='**':\n",
        "  print(f'{n1}^{n2}={n1**n2}')\n",
        "elif s=='%':\n",
        "  print(f'{n1}mod{n2}={n1%n2}')\n",
        "else:\n",
        "  print('invalid operator')\n"
      ]
    },
    {
      "cell_type": "code",
      "execution_count": null,
      "metadata": {
        "colab": {
          "base_uri": "https://localhost:8080/"
        },
        "id": "Jw0kOarxJcB1",
        "outputId": "2dd61604-a668-4801-c22f-5b083d58a7f9"
      },
      "outputs": [
        {
          "name": "stdout",
          "output_type": "stream",
          "text": [
            "1 10\n",
            "2 10.0\n",
            "3 12.5\n",
            "4 15.0\n",
            "5 17.5\n",
            "6 20.0\n",
            "7 20\n",
            "8 20\n"
          ]
        }
      ],
      "source": [
        "for numberhours in range(1,9):\n",
        "  fee=5+2.5*numberhours\n",
        "  if fee<10:\n",
        "    fee=10\n",
        "  elif fee >20:\n",
        "    fee=20\n",
        "  print(numberhours,fee)\n",
        "\n"
      ]
    },
    {
      "cell_type": "code",
      "execution_count": null,
      "metadata": {
        "colab": {
          "base_uri": "https://localhost:8080/"
        },
        "id": "2V6draUsO2UE",
        "outputId": "25e70a65-8eb6-4e78-aa35-08e509651dd4"
      },
      "outputs": [
        {
          "name": "stdout",
          "output_type": "stream",
          "text": [
            "Ad$\t profit\n",
            "0 \t 0\n",
            "25 \t 75\n",
            "50 \t 90\n",
            "75 \t 105\n",
            "100 \t 100\n",
            "125 \t 95\n",
            "150 \t 90\n",
            "175 \t 85\n",
            "200 \t 80\n"
          ]
        }
      ],
      "source": [
        "print('Ad$\\t','profit')\n",
        "for adcost in range(0,201,25):\n",
        "  additional=2*round(adcost**0.5)\n",
        "  profit= (20+additional)*10-200-adcost\n",
        "  print(adcost,'\\t',profit)"
      ]
    },
    {
      "cell_type": "code",
      "execution_count": null,
      "metadata": {
        "colab": {
          "background_save": true,
          "base_uri": "https://localhost:8080/"
        },
        "id": "rkai9CrG4la9",
        "outputId": "175faad2-542a-4dac-fb7a-c9c3361ce132"
      },
      "outputs": [
        {
          "name": "stdout",
          "output_type": "stream",
          "text": [
            "Player 2 wins!\n",
            "good day!\n",
            "Player 1 wins!\n"
          ]
        }
      ],
      "source": [
        "play= input(\"do you want to play a game (yes/no)?\")\n",
        "\n",
        "while play =='yes':\n",
        "  p1= input('player 1 - choose between rock/paper/scissors:')\n",
        "  p2= input('player 2 - choose between rock/paper/scissors:')\n",
        "\n",
        "  if p1==p2:\n",
        "    print('Draw')\n",
        "  elif p1 =='rock' and p2=='scissors':\n",
        "    print('Player 1 wins!')\n",
        "  elif p1 =='scissors' and p2=='paper':\n",
        "    print('Player 1 wins!')\n",
        "  elif p1 =='paper' and p2=='rock':\n",
        "    print('Player 1 wins!')\n",
        "  else:\n",
        "    print('Player 2 wins!')\n",
        "\n",
        "    play = input(\"do you want to play a new game (yes/no)?\")\n",
        "\n",
        "    print('good day!')\n",
        "\n"
      ]
    },
    {
      "cell_type": "code",
      "execution_count": null,
      "metadata": {
        "id": "IFqK53zrCAv4"
      },
      "outputs": [],
      "source": [
        "import random\n",
        "\n",
        "play= input(\"do you want to play a game (yes/no)?\")\n",
        "\n",
        "while play =='yes':\n",
        "  p1= input('player 1 - choose between rock/paper/scissors:')\n",
        "  p2= random.choice(['rock','paper','scissors'])\n",
        "\n",
        "  if p1==p2:\n",
        "    print('Draw')\n",
        "  elif p1 =='rock' and p2=='scissors':\n",
        "    print('Player 1 wins!')\n",
        "  elif p1 =='scissors' and p2=='paper':\n",
        "    print('Player 1 wins!')\n",
        "  elif p1 =='paper' and p2=='rock':\n",
        "    print('Player 1 wins!')\n",
        "  else:\n",
        "    print('Player 2 wins!')\n",
        "\n",
        "    play = input(\"do you want to play a new game (yes/no)?\")\n",
        "\n",
        "    print('good day!')"
      ]
    },
    {
      "cell_type": "markdown",
      "source": [
        "Assigenment 2/17"
      ],
      "metadata": {
        "id": "L9bncMF2EI81"
      }
    },
    {
      "cell_type": "code",
      "source": [
        "lst=[]\n",
        "\n",
        "num= float(input('give a number:'))\n",
        "\n",
        "while num !=0.0:\n",
        "  lst.append(num)\n",
        "  num= float(input('give a number:'))\n",
        "lst.sort(reverse=True)\n",
        "print(lst)"
      ],
      "metadata": {
        "colab": {
          "base_uri": "https://localhost:8080/"
        },
        "id": "n26WOMWW_w-Q",
        "outputId": "dad004f8-cef3-4f81-83a4-bb6b2058a0a1"
      },
      "execution_count": null,
      "outputs": [
        {
          "output_type": "stream",
          "name": "stdout",
          "text": [
            "give a number:2\n",
            "give a number:3\n",
            "give a number:4\n",
            "give a number:5\n",
            "give a number:6\n",
            "give a number:7\n",
            "give a number:0\n",
            "[7.0, 6.0, 5.0, 4.0, 3.0, 2.0]\n"
          ]
        }
      ]
    },
    {
      "cell_type": "code",
      "source": [
        "months={}\n",
        "\n",
        "names=[\"Jan\",\"Feb\",\"Mar\",\"Apr\",\"May\",\"Jun\",\"Jul\",\"Aug\",\"Sep\",\"Oct\",\"Nov\",\"Dec\"]\n",
        "numbers=[1,2,3,4,5,6,7,8,9,10,11,12]\n",
        "\n",
        "for idx in range(len(numbers)):\n",
        "  months[numbers[idx]]= names[idx]\n",
        "months"
      ],
      "metadata": {
        "colab": {
          "base_uri": "https://localhost:8080/"
        },
        "id": "J1gAa_-tiM2j",
        "outputId": "b3607b0f-dd91-46c4-9316-124cbbed9b09"
      },
      "execution_count": null,
      "outputs": [
        {
          "output_type": "execute_result",
          "data": {
            "text/plain": [
              "{1: 'Jan',\n",
              " 2: 'Feb',\n",
              " 3: 'Mar',\n",
              " 4: 'Apr',\n",
              " 5: 'May',\n",
              " 6: 'Jun',\n",
              " 7: 'Jul',\n",
              " 8: 'Aug',\n",
              " 9: 'Sep',\n",
              " 10: 'Oct',\n",
              " 11: 'Nov',\n",
              " 12: 'Dec'}"
            ]
          },
          "metadata": {},
          "execution_count": 9
        }
      ]
    },
    {
      "cell_type": "code",
      "source": [
        "counts={}\n",
        "\n",
        "while len(counts)< 5:\n",
        "  key=input('give a string:')\n",
        "\n",
        "  if key not in counts:\n",
        "    counts[key]= 1\n",
        "  else:\n",
        "    counts[key] += 1\n",
        "\n",
        "counts"
      ],
      "metadata": {
        "colab": {
          "base_uri": "https://localhost:8080/"
        },
        "id": "K1roL1TWoi39",
        "outputId": "ecec5517-39e0-40ab-ff6f-442c1f5d1683"
      },
      "execution_count": null,
      "outputs": [
        {
          "name": "stdout",
          "output_type": "stream",
          "text": [
            "give a string:2\n",
            "give a string:2\n",
            "give a string:3\n",
            "give a string:4\n",
            "give a string:5\n",
            "give a string:67\n"
          ]
        },
        {
          "output_type": "execute_result",
          "data": {
            "text/plain": [
              "{'2': 2, '3': 1, '4': 1, '5': 1, '67': 1}"
            ]
          },
          "metadata": {},
          "execution_count": 2
        }
      ]
    },
    {
      "cell_type": "code",
      "source": [
        "def calcFee(hours):\n",
        " fee=5+2.5*hours\n",
        " if fee< 10:\n",
        "    fee=10.0\n",
        " elif fee >20:\n",
        "    fee=20\n",
        " print(f'Fee:{fee}$')\n",
        "\n",
        "print('program starts...')\n",
        "numHours=int(input('Enter number of hours:'))\n",
        "calcFee(numHours)"
      ],
      "metadata": {
        "colab": {
          "base_uri": "https://localhost:8080/"
        },
        "id": "Yu6_j-m0XwA9",
        "outputId": "d79648b0-95c3-4ce1-8c62-dd96b25784b0"
      },
      "execution_count": null,
      "outputs": [
        {
          "output_type": "stream",
          "name": "stdout",
          "text": [
            "program starts...\n",
            "Enter number of hours:5\n",
            "Fee:17.5$\n"
          ]
        }
      ]
    },
    {
      "cell_type": "code",
      "source": [
        "def reverse_string(text):\n",
        "  return text[::-1]\n",
        "\n",
        "input_string = input(\"Enter a string: \")\n",
        "reversed_string = reverse_string(input_string)\n",
        "reversed_string\n"
      ],
      "metadata": {
        "colab": {
          "base_uri": "https://localhost:8080/",
          "height": 52
        },
        "id": "u6-nnbnvrIJT",
        "outputId": "14d03a1c-4a02-4a04-8881-1175c5787fed"
      },
      "execution_count": null,
      "outputs": [
        {
          "name": "stdout",
          "output_type": "stream",
          "text": [
            "Enter a string: hello\n"
          ]
        },
        {
          "output_type": "execute_result",
          "data": {
            "text/plain": [
              "'olleh'"
            ],
            "application/vnd.google.colaboratory.intrinsic+json": {
              "type": "string"
            }
          },
          "metadata": {},
          "execution_count": 1
        }
      ]
    },
    {
      "cell_type": "code",
      "source": [
        "# prompt: input hello to output olleh using fibonacci sequence (fib)\n",
        "\n",
        "def reverse_string_fib(text):\n",
        "  \"\"\"Reverses a string using Fibonacci sequence logic.\n",
        "\n",
        "  This function is just a demonstration and not an efficient way to reverse\n",
        "  a string in real applications. It uses the Fibonacci sequence as a\n",
        "  counter for indexing.\n",
        "\n",
        "  Args:\n",
        "    text: The input string to be reversed.\n",
        "\n",
        "  Returns:\n",
        "    The reversed string.\n",
        "  \"\"\"\n",
        "  reversed_text = \"\"\n",
        "  a, b = 0, 1\n",
        "  while a < len(text):\n",
        "    reversed_text += text[len(text) - 1 - a]\n",
        "    a, b = b, a + b\n",
        "\n",
        "  return reversed_text\n",
        "\n",
        "\n",
        "input_string = \"hello\"\n",
        "reversed_string = reverse_string_fib(input_string)\n",
        "reversed_string\n"
      ],
      "metadata": {
        "id": "BR8DVJlprhTP"
      },
      "execution_count": null,
      "outputs": []
    },
    {
      "cell_type": "code",
      "source": [
        "def reverse(s):\n",
        "  if len(s)<=1:\n",
        "    return s\n",
        "  else:\n",
        "    return reverse(s[1:])+s[0]\n",
        "reverse('Hello')"
      ],
      "metadata": {
        "colab": {
          "base_uri": "https://localhost:8080/",
          "height": 35
        },
        "id": "_PIruEDNBSJE",
        "outputId": "1cfe48a7-1635-424b-8ad5-bc991b513495"
      },
      "execution_count": null,
      "outputs": [
        {
          "output_type": "execute_result",
          "data": {
            "text/plain": [
              "'olleH'"
            ],
            "application/vnd.google.colaboratory.intrinsic+json": {
              "type": "string"
            }
          },
          "metadata": {},
          "execution_count": 1
        }
      ]
    },
    {
      "cell_type": "code",
      "source": [
        "def calcFee(hours):\n",
        " fee=5+2.5*hours\n",
        " if fee< 10:\n",
        "    fee=10.0\n",
        " elif fee >20:\n",
        "    fee=20\n",
        " print(f'Fee:{fee}$')\n",
        "\n",
        "def main():\n",
        "  try:\n",
        "    numhours=int(input('Enter number of hours:'))\n",
        "    calcFee(numhours)\n",
        "  except ValueError:\n",
        "    print('cannot cast to int().')\n",
        "  except:\n",
        "    print('unknown error...')\n",
        "\n",
        "if __name__=='__main__':\n",
        "  main()"
      ],
      "metadata": {
        "colab": {
          "base_uri": "https://localhost:8080/"
        },
        "id": "kxT_3HwSD1fM",
        "outputId": "1127c64c-23d3-4bda-ea47-7780043e37fc"
      },
      "execution_count": 10,
      "outputs": [
        {
          "output_type": "stream",
          "name": "stdout",
          "text": [
            "Enter number of hours:3.4\n",
            "cannot cast to int().\n"
          ]
        }
      ]
    },
    {
      "cell_type": "code",
      "source": [
        "def getValues(n):\n",
        "  L=[]\n",
        "  for i in range(n):\n",
        "    weight=float(input('Enter weight:'))\n",
        "    L.append(weight)\n",
        "  return L\n",
        "\n",
        "4\n",
        "4\n",
        "4\n",
        "4\n",
        "4def calcAverage(alist):\n",
        "    try:\n",
        "      print(f'the average weight is {sum(alist[2:])/len(alist[2:])}')\n",
        "    except ZeroDivisionError:\n",
        "      print(f'list {alist} is empty')\n",
        "\n",
        "if __name__=='__main__':\n",
        "    try:\n",
        "      n=int(input('enter size of list:'))\n",
        "      alist=getValues(n)\n",
        "      calcAverage(alist)\n",
        "    except ValueError:\n",
        "      print('cannot cast to int().')\n",
        ""
      ],
      "metadata": {
        "colab": {
          "base_uri": "https://localhost:8080/"
        },
        "id": "_rFGZBBRGzla",
        "outputId": "391f4f1a-e191-47d0-af74-8a7147c06c57"
      },
      "execution_count": 26,
      "outputs": [
        {
          "output_type": "stream",
          "name": "stdout",
          "text": [
            "enter size of list:6\n",
            "Enter weight:4\n",
            "Enter weight:6\n",
            "Enter weight:7\n",
            "Enter weight:5\n",
            "Enter weight:5\n",
            "Enter weight:\n",
            "cannot cast to int().\n"
          ]
        }
      ]
    }
  ],
  "metadata": {
    "colab": {
      "provenance": [],
      "authorship_tag": "ABX9TyM6IYQ82PFopJB3puinO11V",
      "include_colab_link": true
    },
    "kernelspec": {
      "display_name": "Python 3",
      "name": "python3"
    },
    "language_info": {
      "name": "python"
    }
  },
  "nbformat": 4,
  "nbformat_minor": 0
}
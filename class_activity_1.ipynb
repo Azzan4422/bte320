{
  "cells": [
    {
      "cell_type": "markdown",
      "metadata": {
        "id": "view-in-github",
        "colab_type": "text"
      },
      "source": [
        "<a href=\"https://colab.research.google.com/github/Azzan4422/bte320/blob/main/class_activity_1.ipynb\" target=\"_parent\"><img src=\"https://colab.research.google.com/assets/colab-badge.svg\" alt=\"Open In Colab\"/></a>"
      ]
    },
    {
      "cell_type": "code",
      "execution_count": null,
      "metadata": {
        "colab": {
          "base_uri": "https://localhost:8080/"
        },
        "id": "z-kGwjO8dqTo",
        "outputId": "f71f445a-51aa-4c44-b035-a62c0c2262b4"
      },
      "outputs": [
        {
          "output_type": "stream",
          "name": "stdout",
          "text": [
            "please provide radius: 5\n",
            "please provide height of cylinder: 10\n",
            "area of cylinder=471.0 sq.ft\n"
          ]
        }
      ],
      "source": [
        "pi=3.14\n",
        "radius=float(input('please provide radius: '))\n",
        "height=float(input('please provide height of cylinder: '))\n",
        "\n",
        "area=(2*pi*(radius**2))+(2*pi*radius*height)\n",
        "print(f'area of cylinder={area} sq.ft')\n"
      ]
    },
    {
      "cell_type": "code",
      "execution_count": null,
      "metadata": {
        "colab": {
          "base_uri": "https://localhost:8080/"
        },
        "id": "7DI2W3VOJbiF",
        "outputId": "57d8e69d-01e9-4df0-c343-02a3afeab770"
      },
      "outputs": [
        {
          "output_type": "stream",
          "name": "stdout",
          "text": [
            "Please provide first number:1\n",
            "Please provide second number:3\n",
            "Please provide operator(+,-,/,//,*,**,%):+\n",
            "1.0+3.0=4.0\n"
          ]
        }
      ],
      "source": [
        "n1= float(input('Please provide first number:'))\n",
        "n2= float(input('Please provide second number:'))\n",
        "s=input('Please provide operator(+,-,/,//,*,**,%):')\n",
        "\n",
        "if s=='+':\n",
        "  print(f'{n1}+{n2}={n1+n2}')\n",
        "elif s=='-':\n",
        "  print(f'{n1}-{n2}={n1-n2}')\n",
        "elif s=='/':\n",
        "  print(f'{n1}/{n2}={n1/n2}')\n",
        "elif s=='//':\n",
        "  print(f'{n1}//{n2}={n1//n2}')\n",
        "elif s=='*':\n",
        "  print(f'{n1}*{n2}={n1*n2}')\n",
        "elif s=='**':\n",
        "  print(f'{n1}^{n2}={n1**n2}')\n",
        "elif s=='%':\n",
        "  print(f'{n1}mod{n2}={n1%n2}')\n",
        "else:\n",
        "  print('invalid operator')\n"
      ]
    },
    {
      "cell_type": "code",
      "execution_count": null,
      "metadata": {
        "colab": {
          "base_uri": "https://localhost:8080/"
        },
        "id": "Jw0kOarxJcB1",
        "outputId": "3d653d68-0704-418e-eea9-760e562a0d7e"
      },
      "outputs": [
        {
          "output_type": "stream",
          "name": "stdout",
          "text": [
            "1 10\n",
            "2 10.0\n",
            "3 12.5\n",
            "4 15.0\n",
            "5 17.5\n",
            "6 20.0\n",
            "7 20\n",
            "8 20\n"
          ]
        }
      ],
      "source": [
        "for numberhours in range(1,9):\n",
        "  fee=5+2.5*numberhours\n",
        "  if fee<10:\n",
        "    fee=10\n",
        "  elif fee >20:\n",
        "    fee=20\n",
        "  print(numberhours,fee)\n",
        "\n"
      ]
    },
    {
      "cell_type": "code",
      "execution_count": null,
      "metadata": {
        "colab": {
          "base_uri": "https://localhost:8080/"
        },
        "id": "2V6draUsO2UE",
        "outputId": "282e42b3-88b6-4b73-b4c4-1a8275f495f9"
      },
      "outputs": [
        {
          "output_type": "stream",
          "name": "stdout",
          "text": [
            "Ad$\t profit\n",
            "0 \t 0\n",
            "25 \t 75\n",
            "50 \t 90\n",
            "75 \t 105\n",
            "100 \t 100\n",
            "125 \t 95\n",
            "150 \t 90\n",
            "175 \t 85\n",
            "200 \t 80\n"
          ]
        }
      ],
      "source": [
        "print('Ad$\\t','profit')\n",
        "for adcost in range(0,201,25):\n",
        "  additional=2*round(adcost**0.5)\n",
        "  profit= (20+additional)*10-200-adcost\n",
        "  print(adcost,'\\t',profit)"
      ]
    },
    {
      "cell_type": "code",
      "execution_count": null,
      "metadata": {
        "colab": {
          "base_uri": "https://localhost:8080/"
        },
        "id": "rkai9CrG4la9",
        "outputId": "9f12a21c-62eb-4914-b3a6-d64f489cfd57"
      },
      "outputs": [
        {
          "output_type": "stream",
          "name": "stdout",
          "text": [
            "do you want to play a game (yes/no)?yes\n",
            "player 1 - choose between rock/paper/scissors:rock\n",
            "player 2 - choose between rock/paper/scissors:paper\n",
            "Player 2 wins!\n",
            "do you want to play a new game (yes/no)?no\n",
            "good day!\n"
          ]
        }
      ],
      "source": [
        "play= input(\"do you want to play a game (yes/no)?\")\n",
        "\n",
        "while play =='yes':\n",
        "  p1= input('player 1 - choose between rock/paper/scissors:')\n",
        "  p2= input('player 2 - choose between rock/paper/scissors:')\n",
        "\n",
        "  if p1==p2:\n",
        "    print('Draw')\n",
        "  elif p1 =='rock' and p2=='scissors':\n",
        "    print('Player 1 wins!')\n",
        "  elif p1 =='scissors' and p2=='paper':\n",
        "    print('Player 1 wins!')\n",
        "  elif p1 =='paper' and p2=='rock':\n",
        "    print('Player 1 wins!')\n",
        "  else:\n",
        "    print('Player 2 wins!')\n",
        "\n",
        "    play = input(\"do you want to play a new game (yes/no)?\")\n",
        "\n",
        "    print('good day!')\n",
        "\n"
      ]
    },
    {
      "cell_type": "code",
      "execution_count": null,
      "metadata": {
        "id": "IFqK53zrCAv4",
        "colab": {
          "base_uri": "https://localhost:8080/"
        },
        "outputId": "2fc99dd8-6956-472c-efd0-9d06e6ee7dda"
      },
      "outputs": [
        {
          "output_type": "stream",
          "name": "stdout",
          "text": [
            "do you want to play a game (yes/no)?yes\n",
            "player 1 - choose between rock/paper/scissors:rock\n",
            "Player 2 wins!\n",
            "do you want to play a new game (yes/no)?no\n",
            "good day!\n"
          ]
        }
      ],
      "source": [
        "import random\n",
        "\n",
        "play= input(\"do you want to play a game (yes/no)?\")\n",
        "\n",
        "while play =='yes':\n",
        "  p1= input('player 1 - choose between rock/paper/scissors:')\n",
        "  p2= random.choice(['rock','paper','scissors'])\n",
        "\n",
        "  if p1==p2:\n",
        "    print('Draw')\n",
        "  elif p1 =='rock' and p2=='scissors':\n",
        "    print('Player 1 wins!')\n",
        "  elif p1 =='scissors' and p2=='paper':\n",
        "    print('Player 1 wins!')\n",
        "  elif p1 =='paper' and p2=='rock':\n",
        "    print('Player 1 wins!')\n",
        "  else:\n",
        "    print('Player 2 wins!')\n",
        "\n",
        "    play = input(\"do you want to play a new game (yes/no)?\")\n",
        "\n",
        "    print('good day!')"
      ]
    },
    {
      "cell_type": "markdown",
      "source": [
        "Assigenment 2/17"
      ],
      "metadata": {
        "id": "L9bncMF2EI81"
      }
    },
    {
      "cell_type": "code",
      "source": [
        "lst=[]\n",
        "\n",
        "num= float(input('give a number:'))\n",
        "\n",
        "while num !=0.0:\n",
        "  lst.append(num)\n",
        "  num= float(input('give a number:'))\n",
        "lst.sort(reverse=True)\n",
        "print(lst)"
      ],
      "metadata": {
        "id": "n26WOMWW_w-Q",
        "colab": {
          "base_uri": "https://localhost:8080/"
        },
        "outputId": "4b551c55-efad-4669-efb1-38b93d5aa4c3"
      },
      "execution_count": null,
      "outputs": [
        {
          "output_type": "stream",
          "name": "stdout",
          "text": [
            "give a number:0\n",
            "[]\n"
          ]
        }
      ]
    },
    {
      "cell_type": "code",
      "source": [
        "months={}\n",
        "\n",
        "names=[\"Jan\",\"Feb\",\"Mar\",\"Apr\",\"May\",\"Jun\",\"Jul\",\"Aug\",\"Sep\",\"Oct\",\"Nov\",\"Dec\"]\n",
        "numbers=[1,2,3,4,5,6,7,8,9,10,11,12]\n",
        "\n",
        "for idx in range(len(numbers)):\n",
        "  months[numbers[idx]]= names[idx]\n",
        "months"
      ],
      "metadata": {
        "id": "J1gAa_-tiM2j",
        "colab": {
          "base_uri": "https://localhost:8080/"
        },
        "outputId": "9f3cd4a5-a0ee-4e00-ce72-f7d27bb528d1"
      },
      "execution_count": null,
      "outputs": [
        {
          "output_type": "execute_result",
          "data": {
            "text/plain": [
              "{1: 'Jan',\n",
              " 2: 'Feb',\n",
              " 3: 'Mar',\n",
              " 4: 'Apr',\n",
              " 5: 'May',\n",
              " 6: 'Jun',\n",
              " 7: 'Jul',\n",
              " 8: 'Aug',\n",
              " 9: 'Sep',\n",
              " 10: 'Oct',\n",
              " 11: 'Nov',\n",
              " 12: 'Dec'}"
            ]
          },
          "metadata": {},
          "execution_count": 27
        }
      ]
    },
    {
      "cell_type": "code",
      "source": [
        "counts={}\n",
        "\n",
        "while len(counts)< 5:\n",
        "  key=input('give a string:')\n",
        "\n",
        "  if key not in counts:\n",
        "    counts[key]= 1\n",
        "  else:\n",
        "    counts[key] += 1\n",
        "\n",
        "counts"
      ],
      "metadata": {
        "id": "K1roL1TWoi39",
        "colab": {
          "base_uri": "https://localhost:8080/"
        },
        "outputId": "2e75f1ac-937c-4f17-b030-70e637e72b53"
      },
      "execution_count": 51,
      "outputs": [
        {
          "name": "stdout",
          "output_type": "stream",
          "text": [
            "give a string:5\n",
            "give a string:5\n",
            "give a string:5\n",
            "give a string:4\n",
            "give a string:4\n",
            "give a string:3\n",
            "give a string:3\n",
            "give a string:0\n",
            "give a string:0.0\n"
          ]
        },
        {
          "output_type": "execute_result",
          "data": {
            "text/plain": [
              "{'5': 3, '4': 2, '3': 2, '0': 1, '0.0': 1}"
            ]
          },
          "metadata": {},
          "execution_count": 51
        }
      ]
    },
    {
      "cell_type": "code",
      "source": [
        "def calcFee(hours):\n",
        " fee=5+2.5*hours\n",
        " if fee< 10:\n",
        "    fee=10.0\n",
        " elif fee >20:\n",
        "    fee=20\n",
        " print(f'Fee:{fee}$')\n",
        "\n",
        "print('program starts...')\n",
        "numHours=int(input('Enter number of hours:'))\n",
        "calcFee(numHours)"
      ],
      "metadata": {
        "id": "Yu6_j-m0XwA9"
      },
      "execution_count": null,
      "outputs": []
    },
    {
      "cell_type": "code",
      "source": [
        "def reverse_string(text):\n",
        "  return text[::-1]\n",
        "\n",
        "input_string = input(\"Enter a string: \")\n",
        "reversed_string = reverse_string(input_string)\n",
        "reversed_string\n"
      ],
      "metadata": {
        "id": "u6-nnbnvrIJT"
      },
      "execution_count": null,
      "outputs": []
    },
    {
      "cell_type": "code",
      "source": [
        "# prompt: input hello to output olleh using fibonacci sequence (fib)\n",
        "\n",
        "def reverse_string_fib(text):\n",
        "  \"\"\"Reverses a string using Fibonacci sequence logic.\n",
        "\n",
        "  This function is just a demonstration and not an efficient way to reverse\n",
        "  a string in real applications. It uses the Fibonacci sequence as a\n",
        "  counter for indexing.\n",
        "\n",
        "  Args:\n",
        "    text: The input string to be reversed.\n",
        "\n",
        "  Returns:\n",
        "    The reversed string.\n",
        "  \"\"\"\n",
        "  reversed_text = \"\"\n",
        "  a, b = 0, 1\n",
        "  while a < len(text):\n",
        "    reversed_text += text[len(text) - 1 - a]\n",
        "    a, b = b, a + b\n",
        "\n",
        "  return reversed_text\n",
        "\n",
        "\n",
        "input_string = \"hello\"\n",
        "reversed_string = reverse_string_fib(input_string)\n",
        "reversed_string\n"
      ],
      "metadata": {
        "id": "BR8DVJlprhTP"
      },
      "execution_count": null,
      "outputs": []
    },
    {
      "cell_type": "code",
      "source": [
        "def reverse(s):\n",
        "  if len(s)<=1:\n",
        "    return s\n",
        "  else:\n",
        "    return reverse(s[1:])+s[0]\n",
        "reverse('Hello')"
      ],
      "metadata": {
        "colab": {
          "base_uri": "https://localhost:8080/",
          "height": 36
        },
        "id": "_PIruEDNBSJE",
        "outputId": "b899b19d-8e0c-42a1-dcd1-1bb8cb0f83d3"
      },
      "execution_count": null,
      "outputs": [
        {
          "output_type": "execute_result",
          "data": {
            "text/plain": [
              "'olleH'"
            ],
            "application/vnd.google.colaboratory.intrinsic+json": {
              "type": "string"
            }
          },
          "metadata": {},
          "execution_count": 29
        }
      ]
    },
    {
      "cell_type": "code",
      "source": [
        "def calcFee(hours):\n",
        " fee=5+2.5*hours\n",
        " if fee< 10:\n",
        "    fee=10.0\n",
        " elif fee >20:\n",
        "    fee=20\n",
        " print(f'Fee:{fee}$')\n",
        "\n",
        "def main():\n",
        "  try:\n",
        "    numhours=int(input('Enter number of hours:'))\n",
        "    calcFee(numhours)\n",
        "  except ValueError:\n",
        "    print('cannot cast to int().')\n",
        "  except:\n",
        "    print('unknown error...')\n",
        "\n",
        "if __name__=='__main__':\n",
        "  main()"
      ],
      "metadata": {
        "colab": {
          "base_uri": "https://localhost:8080/"
        },
        "id": "kxT_3HwSD1fM",
        "outputId": "63c9473b-f96b-4bac-e947-e770fb743674"
      },
      "execution_count": null,
      "outputs": [
        {
          "output_type": "stream",
          "name": "stdout",
          "text": [
            "Enter number of hours:5\n",
            "Fee:17.5$\n"
          ]
        }
      ]
    },
    {
      "cell_type": "code",
      "source": [
        "def getValues(n):\n",
        "  L=[]\n",
        "  for i in range(n):\n",
        "    weight=float(input('Enter weight:'))\n",
        "    L.append(weight)\n",
        "  return L\n",
        "\n",
        "\n",
        "\n",
        "\n",
        "\n",
        "def calcAverage(alist):\n",
        "    try:\n",
        "      print(f'the average weight is {sum(alist[2:])/len(alist[2:])}')\n",
        "    except ZeroDivisionError:\n",
        "      print(f'list {alist} is empty')\n",
        "\n",
        "if __name__=='__main__':\n",
        "    try:\n",
        "      n=int(input('enter size of list:'))\n",
        "      alist=getValues(n)\n",
        "      calcAverage(alist)\n",
        "    except ValueError:\n",
        "      print('cannot cast to int().')\n"
      ],
      "metadata": {
        "colab": {
          "base_uri": "https://localhost:8080/"
        },
        "id": "_rFGZBBRGzla",
        "outputId": "a1d8e64a-916a-4601-e1bc-41b354eff7d4"
      },
      "execution_count": null,
      "outputs": [
        {
          "output_type": "stream",
          "name": "stdout",
          "text": [
            "enter size of list:3\n",
            "Enter weight:4\n",
            "Enter weight:4\n",
            "Enter weight:4\n",
            "the average weight is 4.0\n"
          ]
        }
      ]
    },
    {
      "cell_type": "code",
      "source": [
        "class Greeting:\n",
        " def __init__(self, first, last):\n",
        "    self.first = first\n",
        "    self.last = last\n",
        "\n",
        " def display(self):\n",
        "   print(f\"Hi {self.first}.\")\n",
        "\n",
        "greeting = Greeting('Donald', 'Becker')\n",
        "greeting.display()\n"
      ],
      "metadata": {
        "colab": {
          "base_uri": "https://localhost:8080/"
        },
        "id": "9P11_BzrJv-E",
        "outputId": "a7f129b9-1c8c-40a4-f431-533da7403849"
      },
      "execution_count": null,
      "outputs": [
        {
          "output_type": "stream",
          "name": "stdout",
          "text": [
            "Hi Donald.\n"
          ]
        }
      ]
    },
    {
      "cell_type": "code",
      "source": [
        "class Student:\n",
        "  def __init__(self, name, number):\n",
        "    self.name = name\n",
        "    self.number = number\n",
        "\n"
      ],
      "metadata": {
        "id": "QLsoQf8NrPqy"
      },
      "execution_count": null,
      "outputs": []
    },
    {
      "cell_type": "code",
      "source": [
        "s1 = Student(\"James Bond\",777)\n",
        "s2 = Student(\"Clark Kent\", 333)\n",
        "\n",
        "print(s1.name)\n",
        "print(s2.name)"
      ],
      "metadata": {
        "colab": {
          "base_uri": "https://localhost:8080/"
        },
        "id": "2fTbI6JytYxV",
        "outputId": "c1346f9f-e304-46bb-96c8-3a5e3a5b6533"
      },
      "execution_count": null,
      "outputs": [
        {
          "output_type": "stream",
          "name": "stdout",
          "text": [
            "James Bond\n",
            "Clark Kent\n"
          ]
        }
      ]
    },
    {
      "cell_type": "code",
      "source": [
        "class Student:\n",
        "  def __init__(self, name, number,courses=[]):\n",
        "    self.name = name\n",
        "    self.number = number\n",
        "    self.courses= []\n",
        "\n",
        "  def enroll(self,course):\n",
        "    if course in self.courses:\n",
        "      print(f'{self.name} is already enrolled in {course}')\n",
        "    else:\n",
        "      self.courses.append(course)\n",
        "\n",
        "  def get_courses(self):\n",
        "    return self.courses"
      ],
      "metadata": {
        "id": "l-DxFjOdt3Zf"
      },
      "execution_count": null,
      "outputs": []
    },
    {
      "cell_type": "code",
      "source": [
        "s1 = Student(\"James Bond\",777)\n",
        "s2 = Student(\"Clark Kent\", 333)"
      ],
      "metadata": {
        "id": "rldkN3q7uIrS"
      },
      "execution_count": null,
      "outputs": []
    },
    {
      "cell_type": "code",
      "source": [
        "print(s1.name)\n",
        "print(s2.name)"
      ],
      "metadata": {
        "colab": {
          "base_uri": "https://localhost:8080/"
        },
        "id": "kuObUDz3x0FB",
        "outputId": "4ad82cc4-99fe-4f95-b49d-d8775ac293dc"
      },
      "execution_count": null,
      "outputs": [
        {
          "output_type": "stream",
          "name": "stdout",
          "text": [
            "James Bond\n",
            "Clark Kent\n"
          ]
        }
      ]
    },
    {
      "cell_type": "code",
      "source": [
        "s1.enroll(\"BTE320\")"
      ],
      "metadata": {
        "id": "Yq9I07L6x38I"
      },
      "execution_count": null,
      "outputs": []
    },
    {
      "cell_type": "code",
      "source": [
        "s1.courses"
      ],
      "metadata": {
        "colab": {
          "base_uri": "https://localhost:8080/"
        },
        "id": "Vz8Cv4bIx9pP",
        "outputId": "49b70f56-bed0-4547-95a1-11b42cc74803"
      },
      "execution_count": null,
      "outputs": [
        {
          "output_type": "execute_result",
          "data": {
            "text/plain": [
              "['BTE320']"
            ]
          },
          "metadata": {},
          "execution_count": 40
        }
      ]
    },
    {
      "cell_type": "code",
      "source": [
        "s1.enroll(\"BTE320\")"
      ],
      "metadata": {
        "id": "EVSzgJNsyGMk",
        "outputId": "b5b3ce2b-8c6f-4c90-e356-6df3d018b29f",
        "colab": {
          "base_uri": "https://localhost:8080/"
        }
      },
      "execution_count": null,
      "outputs": [
        {
          "output_type": "stream",
          "name": "stdout",
          "text": [
            "James Bond is already enrolled in BTE320\n"
          ]
        }
      ]
    },
    {
      "cell_type": "code",
      "source": [
        "class Point:\n",
        "  def __init__(self, name, number):\n",
        "    self.name = name\n",
        "    self.number = number\n",
        "    self.courses= []\n",
        "\n",
        "  def enroll(self,course):\n",
        "    if course in self.courses:\n",
        "      print(f'{self.name} is already enrolled in {course}')\n",
        "    else:\n",
        "      self.courses.append(course)\n",
        "\n",
        "  def get_courses(self):\n",
        "    return self.courses"
      ],
      "metadata": {
        "id": "1Gq-7R_iNGWk"
      },
      "execution_count": null,
      "outputs": []
    },
    {
      "cell_type": "code",
      "source": [
        "import math\n",
        "\n",
        "class Point:\n",
        "  def __init__(self, x, y):\n",
        "    self.x = x\n",
        "    self.y = y\n",
        "\n",
        "  def distance (self,other):\n",
        "    dx= (self.x-other.x)**2\n",
        "    dy= (self.y-other.y)**2\n",
        "    dist= math.sqrt(dx+dy)\n",
        "    print(dist)\n",
        "\n",
        "p1 = Point(0,0)\n",
        "p2 = Point(3,4)\n",
        "p1.distance(p2)"
      ],
      "metadata": {
        "colab": {
          "base_uri": "https://localhost:8080/"
        },
        "id": "_vil8HqHPF1w",
        "outputId": "693ee10b-cebf-435e-a288-8effc2a1e78b"
      },
      "execution_count": null,
      "outputs": [
        {
          "output_type": "stream",
          "name": "stdout",
          "text": [
            "5.0\n"
          ]
        }
      ]
    },
    {
      "cell_type": "code",
      "source": [
        "import math\n",
        "\n",
        "class rectangle:\n",
        "  def __init__(self,x,y, corner_1, corner_2, corner_3, corner_4):\n",
        "    self.corner_1 = corner_1\n",
        "    self.corner_2 = corner_2\n",
        "    self.corner_3 = corner_3\n",
        "    self.corner_4 = corner_4\n",
        "    self.x = x\n",
        "    self.y = y\n",
        "\n",
        "  def distance (self,other):\n",
        "    dx= (self.x-other.x)**2\n",
        "    dy= (self.y-other.y)**2\n",
        "    dist= math.sqrt(dx+dy)\n",
        "    print(dist)\n",
        "\n",
        "p1 = Point(0,0)\n",
        "p2 = Point(3,4)\n",
        "p1.distance(p2)"
      ],
      "metadata": {
        "colab": {
          "base_uri": "https://localhost:8080/"
        },
        "id": "lTPLdNGZQlpE",
        "outputId": "4b37f0a3-d466-40c8-d9b4-39e91f443cbc"
      },
      "execution_count": null,
      "outputs": [
        {
          "output_type": "stream",
          "name": "stdout",
          "text": [
            "5.0\n"
          ]
        }
      ]
    },
    {
      "cell_type": "markdown",
      "source": [
        "Cylinder Area Calculator"
      ],
      "metadata": {
        "id": "e-svNihj-Fbm"
      }
    },
    {
      "cell_type": "code",
      "source": [
        "# Ask user if they would like to input pi or use exact value\n",
        "pi_question = input(\"Would you like to input pi or use an exact value (Input / Exact): \")\n",
        "\n",
        "# Determine which pi to use\n",
        "if pi_question == \"Input\":\n",
        "  print(\"\\n\")\n",
        "  pi = float(input(\"Please enter the value of pi you would like to use: \"))\n",
        "else:\n",
        "  import math\n",
        "  pi = math.pi\n",
        "# Print the value of pi that will be used\n",
        "print(\"\\n\")\n",
        "print(\"The value of pi is assumed to be: \", pi)\n",
        "\n",
        "# Ask User for Inputs\n",
        "print(\"\\n\")\n",
        "H = int(input(\"Please enter the height of the cylinder: \"))\n",
        "r = int(input(\"Please enter the radius of the cylinder: \"))\n",
        "\n",
        "# Calculate the surface area of the cylinder\n",
        "Surf_A = (2*pi*(r**2)) + (2*pi*r*H);\n",
        "\n",
        "# Print the surface area and value of pi\n",
        "print(\"The surface area of the cylinder is: \", Surf_A, \" units^2\");"
      ],
      "metadata": {
        "id": "wzG17MgN9_On",
        "colab": {
          "base_uri": "https://localhost:8080/"
        },
        "outputId": "eb860e48-7834-415c-9aa3-6d01c23c052a"
      },
      "execution_count": null,
      "outputs": [
        {
          "output_type": "stream",
          "name": "stdout",
          "text": [
            "Would you like to input pi or use an exact value (Input / Exact): input\n",
            "\n",
            "\n",
            "The value of pi is assumed to be:  3.141592653589793\n",
            "\n",
            "\n",
            "Please enter the height of the cylinder: 10\n",
            "Please enter the radius of the cylinder: 5\n",
            "The surface area of the cylinder is:  471.23889803846896  units^2\n"
          ]
        }
      ]
    },
    {
      "cell_type": "markdown",
      "source": [
        "Numirical calculator"
      ],
      "metadata": {
        "id": "hZ5Wbh_B-Ymp"
      }
    },
    {
      "cell_type": "code",
      "source": [
        "print(\"Hello, thanks for using my calculator\")\n",
        "print(\"\\n\")\n",
        "num1 = float(input(\"Please enter your first number: \"))\n",
        "operator = (input(\"Please enter the operation (+, -, *, /, //, **, %): \"))\n",
        "num2 = float(input(\"Please enter your second number: \"))\n",
        "\n",
        "print(\"\\n\")\n",
        "print(\"Your answer is: \")\n",
        "if operator == \"+\":\n",
        "  print(num1 + num2)\n",
        "elif operator == \"-\":\n",
        "  print(num1 - num2)\n",
        "elif operator == \"*\":\n",
        "  print(num1 * num2)\n",
        "elif operator == \"/\":\n",
        "  print(num1 / num2)\n",
        "elif operator == \"//\":\n",
        "  print(num1 // num2)\n",
        "elif operator == \"**\":\n",
        "  print(num1 ** num2)\n",
        "elif operator == \"%\":\n",
        "  print(num1 % num2)\n",
        "else:\n",
        "  print(\"Invalid Operator\")\n",
        "\n",
        "print(\"\\n\")\n",
        "print(\"Thanks for using the calculator\")"
      ],
      "metadata": {
        "id": "Rrs8g9bt-Nlo",
        "colab": {
          "base_uri": "https://localhost:8080/"
        },
        "outputId": "8a12bd46-7231-46cd-8a77-47872327b0e7"
      },
      "execution_count": null,
      "outputs": [
        {
          "output_type": "stream",
          "name": "stdout",
          "text": [
            "Hello, thanks for using my calculator\n",
            "\n",
            "\n",
            "Please enter your first number: 1\n",
            "Please enter the operation (+, -, *, /, //, **, %): +\n",
            "Please enter your second number: 4\n",
            "\n",
            "\n",
            "Your answer is: \n",
            "5.0\n",
            "\n",
            "\n",
            "Thanks for using the calculator\n"
          ]
        }
      ]
    },
    {
      "cell_type": "markdown",
      "source": [
        "Parking Garage Problem"
      ],
      "metadata": {
        "id": "9TuONKNe-b18"
      }
    },
    {
      "cell_type": "code",
      "source": [
        "min_fee = 10\n",
        "max_fee = 20\n",
        "base_fee = 5\n",
        "hourly = 2.5\n",
        "hours = 8\n",
        "\n",
        "for i in range(1,hours+1):\n",
        "  fee = base_fee + (hourly*i)\n",
        "  if fee < min_fee:\n",
        "    fee = min_fee\n",
        "  elif fee > max_fee:\n",
        "    fee = max_fee\n",
        "  print(i, \" \", fee)"
      ],
      "metadata": {
        "id": "tkJZynfI-fbh",
        "colab": {
          "base_uri": "https://localhost:8080/"
        },
        "outputId": "b4988950-15a5-4760-8c9d-d554c94fa8e3"
      },
      "execution_count": null,
      "outputs": [
        {
          "output_type": "stream",
          "name": "stdout",
          "text": [
            "1   10\n",
            "2   10.0\n",
            "3   12.5\n",
            "4   15.0\n",
            "5   17.5\n",
            "6   20.0\n",
            "7   20\n",
            "8   20\n"
          ]
        }
      ]
    },
    {
      "cell_type": "markdown",
      "source": [
        "Movie Theater Problem"
      ],
      "metadata": {
        "id": "obRabmgn-hqQ"
      }
    },
    {
      "cell_type": "code",
      "source": [
        "ticket = 10\n",
        "fixed_c = 200\n",
        "max_spend = 200\n",
        "step = 25\n",
        "\n",
        "print(\"Ads\", '\\t' \"Profit\")\n",
        "for x in range(0,max_spend+1, step):\n",
        "  people = 20 + (2*round(x**(1/2)))\n",
        "  profit = (people * ticket) - fixed_c - x\n",
        "\n",
        "  print(x, '\\t', profit)"
      ],
      "metadata": {
        "id": "OR3Kmdf_-kNl",
        "colab": {
          "base_uri": "https://localhost:8080/"
        },
        "outputId": "95b5f441-9a34-4f30-bc77-59a4186ecb92"
      },
      "execution_count": null,
      "outputs": [
        {
          "output_type": "stream",
          "name": "stdout",
          "text": [
            "Ads \tProfit\n",
            "0 \t 0\n",
            "25 \t 75\n",
            "50 \t 90\n",
            "75 \t 105\n",
            "100 \t 100\n",
            "125 \t 95\n",
            "150 \t 90\n",
            "175 \t 85\n",
            "200 \t 80\n"
          ]
        }
      ]
    },
    {
      "cell_type": "markdown",
      "source": [
        "Rock, Paper, Scissors"
      ],
      "metadata": {
        "id": "CgWO-pXK-mpA"
      }
    },
    {
      "cell_type": "code",
      "source": [
        "import random\n",
        "end_game = False\n",
        "\n",
        "while end_game == False:\n",
        "  print(\"\\n\")\n",
        "  end_q = input(\"Would you like to play (Y/N): \")\n",
        "  if end_q == \"N\":\n",
        "    end_game = True\n",
        "    break\n",
        "  else:\n",
        "    play = input(\"Player: enter your choice (Rock, Paper, Scissors): \")\n",
        "    print(\"\\n\")\n",
        "    print(\"Your choice was: \", play)\n",
        "    comp_choice = random.randint(1,3)\n",
        "    if comp_choice == 1:\n",
        "      comp_choice = \"Rock\"\n",
        "    elif comp_choice == 2:\n",
        "      comp_choice = \"Paper\"\n",
        "    else:\n",
        "      comp_choice = \"Scissors\"\n",
        "    print(\"\\n\")\n",
        "    print(\"Computer: \", comp_choice)\n",
        "    print(\"\\n\")\n",
        "    if play == comp_choice:\n",
        "      print(\"It's a tie\")\n",
        "    elif play == \"Rock\" and comp_choice == \"Scissors\":\n",
        "      print(\"Player wins\")\n",
        "    elif play == \"Paper\" and comp_choice == \"Rock\":\n",
        "      print(\"Player wins\")\n",
        "    elif play == \"Scissors\" and comp_choice == \"Paper\":\n",
        "      print(\"Player wins\")\n",
        "    else:\n",
        "      print(\"Computer wins\")"
      ],
      "metadata": {
        "id": "TeF8jlPZ-s3_",
        "colab": {
          "base_uri": "https://localhost:8080/"
        },
        "outputId": "72d24c95-cd9e-4826-97f5-0b5c4d0ab14e"
      },
      "execution_count": null,
      "outputs": [
        {
          "name": "stdout",
          "output_type": "stream",
          "text": [
            "\n",
            "\n",
            "Would you like to play (Y/N): y\n",
            "Player: enter your choice (Rock, Paper, Scissors): rock\n",
            "\n",
            "\n",
            "Your choice was:  rock\n",
            "\n",
            "\n",
            "Computer:  Scissors\n",
            "\n",
            "\n",
            "Computer wins\n",
            "\n",
            "\n",
            "Would you like to play (Y/N): n\n",
            "Player: enter your choice (Rock, Paper, Scissors): rock\n",
            "\n",
            "\n",
            "Your choice was:  rock\n",
            "\n",
            "\n",
            "Computer:  Paper\n",
            "\n",
            "\n",
            "Computer wins\n",
            "\n",
            "\n",
            "Would you like to play (Y/N): N\n"
          ]
        }
      ]
    },
    {
      "cell_type": "markdown",
      "source": [
        "Append items to list iteratively"
      ],
      "metadata": {
        "id": "hupwUj9s-t7D"
      }
    },
    {
      "cell_type": "code",
      "source": [
        "U_List = []\n",
        "num = 1\n",
        "\n",
        "while num != 0:\n",
        "  num = int(input('Please input a number to add to the list: '))\n",
        "  U_List.append(num)\n",
        "\n",
        "if num == 0:\n",
        "  U_List.pop()\n",
        "  U_List.sort(reverse = True)\n",
        "\n",
        "\n",
        "print(U_List)"
      ],
      "metadata": {
        "id": "M7NekvDZ-x4I"
      },
      "execution_count": null,
      "outputs": []
    },
    {
      "cell_type": "markdown",
      "source": [
        "Dynamic dictionary of number:month pairs"
      ],
      "metadata": {
        "id": "pYBkLXmM-00T"
      }
    },
    {
      "cell_type": "code",
      "source": [
        "months = {}\n",
        "\n",
        "names = [\"Jan\", \"Feb\", \"Mar\", \"Apr\", \"May\", \"Jun\", \"Jul\", \"Aug\", \"Sep\", \"Oct\", \"Nov\", \"Dec\"]\n",
        "numbers = [1,2,3,4,5,6,7,8,9,10,11,12]\n",
        "\n",
        "t = len(numbers)\n",
        "\n",
        "for idx in range(len(numbers)):\n",
        " months[numbers[idx]] = names[idx]\n",
        "\n",
        "months"
      ],
      "metadata": {
        "id": "haZ6e2ME-6Up"
      },
      "execution_count": null,
      "outputs": []
    },
    {
      "cell_type": "markdown",
      "source": [
        "Dynamic dictionary; 5 distinct key:value pairs"
      ],
      "metadata": {
        "id": "0LULub0a-8qL"
      }
    },
    {
      "cell_type": "code",
      "source": [
        "# empty dict\n",
        "times = {}\n",
        "\n",
        "# loop until 5 distinct strings have been entered\n",
        "while len(times) < 5:\n",
        "  # input string here\n",
        "  U_str = str(input(\"Please enter a string: \"))\n",
        "\n",
        "  # test if string is in times\n",
        "  if U_str in times:\n",
        "    times[U_str] = times[U_str] + 1\n",
        "  else:\n",
        "    times[U_str] = 1\n",
        "\n",
        "print('\\n')\n",
        "times\n"
      ],
      "metadata": {
        "id": "P8cIbu-Z-8-s"
      },
      "execution_count": null,
      "outputs": []
    },
    {
      "cell_type": "markdown",
      "source": [
        "Parking garage: calcFee function"
      ],
      "metadata": {
        "id": "GvQ8IZYr_FWU"
      }
    },
    {
      "cell_type": "code",
      "source": [
        "def calcFee(hours):\n",
        "  min_fee = 10\n",
        "  max_fee = 20\n",
        "  base_fee = 5\n",
        "  hourly = 2.5\n",
        "  fee = base_fee + (hourly*hours)\n",
        "  if fee < min_fee:\n",
        "    fee = min_fee\n",
        "  elif fee > max_fee:\n",
        "    fee = max_fee\n",
        "  print(\"Parking fee: $\", fee)\n",
        "\n",
        "def main():\n",
        "  numHours = int(input(\"Enter number of hours: \"))\n",
        "  calcFee(numHours)\n",
        "\n",
        "if __name__ == \"__main__\":\n",
        "  main()"
      ],
      "metadata": {
        "id": "tHlkHGFO_Fni"
      },
      "execution_count": null,
      "outputs": []
    },
    {
      "cell_type": "markdown",
      "source": [
        "Recursive function: string reversal"
      ],
      "metadata": {
        "id": "geV78qwL_VEl"
      }
    },
    {
      "cell_type": "code",
      "source": [
        "def reverse(s):\n",
        "  if len(s) <= 1:\n",
        "    return s\n",
        "  else:\n",
        "    return reverse(s[1:]) + s[0]\n",
        "\n",
        "reverse('Hello')"
      ],
      "metadata": {
        "id": "EFLS4afU_VX1"
      },
      "execution_count": null,
      "outputs": []
    },
    {
      "cell_type": "code",
      "source": [
        "def StringR(Word):\n",
        "  if len(Word) == 1:\n",
        "    return Word\n",
        "  else:\n",
        "    return Word[-1] + StringR(Word[:-1])\n",
        "\n",
        "StringR(\"Hello\")"
      ],
      "metadata": {
        "colab": {
          "base_uri": "https://localhost:8080/",
          "height": 35
        },
        "id": "sxBVcVXaqGIM",
        "outputId": "9da2119e-29f7-4867-d7e9-dc37f1db3b82"
      },
      "execution_count": null,
      "outputs": [
        {
          "output_type": "execute_result",
          "data": {
            "text/plain": [
              "'olleH'"
            ],
            "application/vnd.google.colaboratory.intrinsic+json": {
              "type": "string"
            }
          },
          "metadata": {},
          "execution_count": 1
        }
      ]
    },
    {
      "cell_type": "markdown",
      "source": [
        "Parking garage/1st question of Assignment II using exception handling"
      ],
      "metadata": {
        "id": "9MYPcyO7_msU"
      }
    },
    {
      "cell_type": "code",
      "source": [
        "def calcFee(hours):\n",
        "  min_fee = 10\n",
        "  max_fee = 20\n",
        "  base_fee = 5\n",
        "  hourly = 2.5\n",
        "  fee = base_fee + (hourly*hours)\n",
        "  if fee < min_fee:\n",
        "    fee = min_fee\n",
        "  elif fee > max_fee:\n",
        "    fee = max_fee\n",
        "  print(\"Parking fee: $\", fee)\n",
        "\n",
        "def main():\n",
        "  try:\n",
        "    numHours = int(input(\"Enter number of hours: \"))\n",
        "    calcFee(numHours)\n",
        "  except ValueError:\n",
        "    print(\"Please enter the hours as a number\")\n",
        "  except:\n",
        "    print('Unknown error....')\n",
        "\n",
        "\n",
        "if __name__ == \"__main__\":\n",
        "  main()"
      ],
      "metadata": {
        "id": "sj2diTWC_m7W"
      },
      "execution_count": null,
      "outputs": []
    },
    {
      "cell_type": "code",
      "source": [
        "def getValues(n):\n",
        "  alist = []\n",
        "  for i in range(n):\n",
        "    try:\n",
        "      alist.append(float(input(\"Enter a value: \")))\n",
        "    except ValueError:\n",
        "      print(\"Please enter a number\")\n",
        "      break\n",
        "  return alist\n",
        "\n",
        "def calcAverage(alist):\n",
        "  try:\n",
        "    print(f'The average weight is: {sum(alist[2:]) / len(alist[2:])}')\n",
        "  except ZeroDivisionError:\n",
        "    print(f'List {alist} is empty!')\n",
        "\n",
        "\n",
        "try:\n",
        "  n = int(input(\"How many values do you want to enter? \"))\n",
        "  alist = getValues(n)\n",
        "  Avg = calcAverage(alist)\n",
        "except ValueError:\n",
        "  print(\"Please enter a number\")\n",
        "except UnboundLocalError:\n",
        "  print(\"Please enter your inputs again\")\n",
        "\n",
        "try:\n",
        "  print(\"The average is: \", Avg)\n",
        "except NameError:\n",
        "  print('')"
      ],
      "metadata": {
        "id": "l_pWDSpCA5Sq"
      },
      "execution_count": null,
      "outputs": []
    },
    {
      "cell_type": "code",
      "source": [
        "def getValues(n):\n",
        "  values = []\n",
        "  for _ in range(n):\n",
        "    value = float(input(\"Enter a value: \"))\n",
        "    values.append(value)\n",
        "  return values\n",
        "\n",
        "\n",
        "def calcAverage(alist):\n",
        "  if len(alist) <= 2:\n",
        "    return 0  # Or handle this case differently as needed\n",
        "  return sum(alist[2:]) / (len(alist) - 2)\n",
        "\n",
        "\n",
        "# Get the number of values from the user\n",
        "num_values = int(input(\"How many values do you want to enter? \"))\n",
        "\n",
        "# Get the list of values\n",
        "values_list = getValues(num_values)\n",
        "\n",
        "# Calculate and print the average\n",
        "average = calcAverage(values_list)\n",
        "print(\"The average (excluding the first two values) is:\", average)"
      ],
      "metadata": {
        "id": "33grHbx0BSCE"
      },
      "execution_count": null,
      "outputs": []
    },
    {
      "cell_type": "code",
      "source": [
        "# Parent Class\n",
        "class Car:\n",
        "  def __init__(self, make, year):\n",
        "    self.__make = make\n",
        "    self.__year = year\n",
        "\n",
        "  def get_make(self):\n",
        "    return self.__make\n",
        "\n",
        "  def set_make(self, newMake):\n",
        "    self.__make = newMake\n",
        "\n",
        "# Child class (sublclass)\n",
        "class SUV(Car):\n",
        "  def activateAWD(self):\n",
        "    print('AWD activated')\n",
        "\n",
        "\n",
        "\n",
        "c = Car('Ford', 2024)\n",
        "s = SUV('GMC', 2021)"
      ],
      "metadata": {
        "id": "OM8isCpMB76d"
      },
      "execution_count": null,
      "outputs": []
    }
  ],
  "metadata": {
    "colab": {
      "provenance": [],
      "authorship_tag": "ABX9TyP7+Yp70OfNfqj+l5Ul0wOt",
      "include_colab_link": true
    },
    "kernelspec": {
      "display_name": "Python 3",
      "name": "python3"
    },
    "language_info": {
      "name": "python"
    }
  },
  "nbformat": 4,
  "nbformat_minor": 0
}